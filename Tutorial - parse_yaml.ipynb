{
 "cells": [
  {
   "cell_type": "markdown",
   "id": "eecd920b-ea8c-4890-ad76-227d7fd52964",
   "metadata": {},
   "source": [
    "# Tutorial - parse_yaml\n",
    "- Modified: 13 Mar 2025\n",
    "- Parses the LLM output as a YAML, and converts it to dict\n",
    "- Uses concise `output_format` to save tokens\n",
    "- Converts `output_format` into pydantic schema automatically, and uses pydantic to validate output\n",
    "- Able to process datatypes: `int`, `float`, `str`, `bool`, `list`, `dict`, `date`, `datetime`, `time`, `UUID`, `Decimal`\n",
    "- Able to process: `None`, `Any`, `Union`, `Optional`\n",
    "- Default datatype when not specified is `Any`\n",
    "- Error correction of up to `num_tries` times (default: 3)\n",
    "\n",
    "- Tested on:\n",
    "    - Claude 3.5 Sonnet\n",
    "    - Claude 3.7 Sonnet\n",
    "    - gpt-o3-mini\n",
    "    - gpt-o1-mini\n",
    "    - gpt-4o-mini\n",
    "    - gpt-4o\n",
    "    - Meta Llama 3.3 70B\n",
    "    - Meta Llama 3.2 90B (Note: Smaller versions of Llama 3.2 do not work well with YAML)\n",
    "    - Meta Llama 3.1 70B (Note: Smaller versions of Llama 3.1 do not work well with YAML)\n",
    "    - DeepSeek-V3\n",
    "    - DeepSeek-R1\n",
    "    - QwW 32B\n",
    "    - Gemini 2.0 Flash\n",
    "    - Gemini 2.0 Flash-Lite\n",
    "\n",
    "- Let me know if you would like me to try out more models available on OpenRouter (https://openrouter.ai/) via discord:\n",
    "https://discord.gg/bzp87AHJy5"
   ]
  },
  {
   "cell_type": "code",
   "execution_count": 1,
   "id": "2ba9d88e-7e41-43b1-9fd8-f8ab1f62d3f8",
   "metadata": {
    "editable": true,
    "slideshow": {
     "slide_type": ""
    },
    "tags": []
   },
   "outputs": [],
   "source": [
    "import os\n",
    "from strictjson import parse_yaml, parse_yaml_async, convert_schema_to_pydantic"
   ]
  },
  {
   "cell_type": "code",
   "execution_count": 2,
   "id": "e5289ed5-3c23-4bb9-9d1c-9f02aec6d13a",
   "metadata": {
    "editable": true,
    "scrolled": true,
    "slideshow": {
     "slide_type": ""
    },
    "tags": []
   },
   "outputs": [
    {
     "data": {
      "text/plain": [
       "True"
      ]
     },
     "execution_count": 2,
     "metadata": {},
     "output_type": "execute_result"
    }
   ],
   "source": [
    "from dotenv import load_dotenv\n",
    "# put your secret keys in your .env\n",
    "# For instance, if you are using OpenAI, your .env should contain\n",
    "# export OPENAI_API_KEY = \"sk-.......\"\n",
    "load_dotenv()"
   ]
  },
  {
   "cell_type": "markdown",
   "id": "c4637b1e-d852-4d69-8e34-8a697800570d",
   "metadata": {},
   "source": [
    "# Define LLMs\n",
    "- LLMs take in a `system_prompt` and a `user_prompt` and outputs a `str`"
   ]
  },
  {
   "cell_type": "markdown",
   "id": "1a5905e0-5e10-4121-be0b-2d86c04e0ed1",
   "metadata": {},
   "source": [
    "### Define LLM using OpenRouter - https://openrouter.ai/\n",
    "- This enables rapid testing of various LLMs"
   ]
  },
  {
   "cell_type": "code",
   "execution_count": 3,
   "id": "7365033d-b8c8-413c-bcfd-8d8bf04b89b4",
   "metadata": {},
   "outputs": [],
   "source": [
    "MODEL = \"anthropic/claude-3.7-sonnet\"\n",
    "# MODEL = \"anthropic/claude-3.5-sonnet\"\n",
    "# MODEL = \"openai/o3-mini\"\n",
    "# MODEL = \"openai/o1-mini\"\n",
    "# MODEL = \"openai/gpt-4o\"\n",
    "# MODEL = \"openai/gpt-4o-mini\" \n",
    "# MODEL = \"meta-llama/llama-3.3-70b-instruct\"\n",
    "# MODEL = \"meta-llama/llama-3.2-90b-vision-instruct\"\n",
    "# MODEL = \"meta-llama/llama-3.1-70b-instruct\"\n",
    "# MODEL = \"deepseek/deepseek-chat\"\n",
    "# MODEL = \"deepseek/deepseek-r1-zero:free\"\n",
    "# MODEL = \"qwen/qwq-32b\"\n",
    "# MODEL = \"google/gemini-2.0-flash-001\"\n",
    "# MODEL = \"google/gemini-2.0-flash-lite-001\"\n",
    "# MODEL = \"google/gemini-2.0-flash-thinking-exp:free\""
   ]
  },
  {
   "cell_type": "code",
   "execution_count": 4,
   "id": "f62fb975-5126-42a6-895b-39355c4a453f",
   "metadata": {},
   "outputs": [],
   "source": [
    "def llm(system_prompt: str, user_prompt: str, **kwargs):\n",
    "    ''' Use your favourite LLM here - we use OpenRouter here to test various LLMs '''\n",
    "    from openai import OpenAI\n",
    "\n",
    "    client = OpenAI(\n",
    "        base_url=\"https://openrouter.ai/api/v1\",\n",
    "        api_key=os.environ[\"OPENROUTER_API_KEY\"],\n",
    "    )\n",
    "\n",
    "    messages = []\n",
    "    if system_prompt:\n",
    "        messages.append({\n",
    "            \"role\": \"system\",\n",
    "            \"content\": [{\"type\": \"text\", \"text\": system_prompt}]\n",
    "        })\n",
    "    messages.append({\n",
    "        \"role\": \"user\",\n",
    "        \"content\": user_prompt\n",
    "    })\n",
    "\n",
    "    # change the model as you wish\n",
    "    response = client.chat.completions.create(\n",
    "        model=MODEL,\n",
    "        messages=messages\n",
    "    )\n",
    "    return response.choices[0].message.content"
   ]
  },
  {
   "cell_type": "code",
   "execution_count": 5,
   "id": "10423812-dbf8-4261-a1f3-915f8653ae83",
   "metadata": {},
   "outputs": [],
   "source": [
    "async def llm_async(system_prompt: str, user_prompt: str, **kwargs):\n",
    "    ''' Use your favourite LLM here - we use OpenRouter here to test various LLMs '''\n",
    "    from openai import AsyncOpenAI\n",
    "\n",
    "    client = AsyncOpenAI(\n",
    "        base_url=\"https://openrouter.ai/api/v1\",\n",
    "        api_key=os.environ[\"OPENROUTER_API_KEY\"],\n",
    "    )\n",
    "\n",
    "    messages = []\n",
    "    if system_prompt:\n",
    "        messages.append({\n",
    "            \"role\": \"system\",\n",
    "            \"content\": [{\"type\": \"text\", \"text\": system_prompt}]\n",
    "        })\n",
    "    messages.append({\n",
    "        \"role\": \"user\",\n",
    "        \"content\": user_prompt\n",
    "    })\n",
    "\n",
    "    # change the model as you wish\n",
    "    response = await client.chat.completions.create(\n",
    "        model=MODEL,\n",
    "        messages=messages\n",
    "    )\n",
    "    return response.choices[0].message.content"
   ]
  },
  {
   "cell_type": "markdown",
   "id": "6678ef84-e49f-4afa-a48c-49962fa85a03",
   "metadata": {},
   "source": [
    "# Basic Syntax\n",
    "- `system_prompt`: Instructions for the LLM\n",
    "- `user_prompt`: Content to perform instructions on\n",
    "- `output_format`: Concise description-type infused dictionary to specify format LLM should output in. If type is given, should specify it as a standalone string, or after a comma (e.g. `\"int\"` or `\"an age, int\"` or `\"type: int\"` or `\"an age, type: int\"`)\n",
    "- `llm`: Your llm that takes in `system_prompt` and `user_prompt` and outputs a `str`"
   ]
  },
  {
   "cell_type": "code",
   "execution_count": 6,
   "id": "2d7fac95-2917-46f6-9d97-def9e594e8b2",
   "metadata": {},
   "outputs": [
    {
     "data": {
      "text/plain": [
       "{'Names': ['Tempest', 'Zephyr', 'Aurora', 'Gale', 'Nimbus'],\n",
       " 'Meanings': {'Tempest': 'Violent windstorm or thunderstorm',\n",
       "  'Zephyr': 'Gentle breeze or west wind',\n",
       "  'Aurora': 'Dawn light often with colorful atmospheric display',\n",
       "  'Gale': 'Very strong wind',\n",
       "  'Nimbus': 'Rain cloud or cloud formation'},\n",
       " 'Chinese Meanings': {'暴风雨': 'Violent storm',\n",
       "  '微风': 'Gentle breeze',\n",
       "  '曙光': 'Dawn light',\n",
       "  '强风': 'Strong wind',\n",
       "  '雨云': 'Rain cloud'},\n",
       " 'Lucky Name or Number': ['Zephyr', 7, 'Aurora', 22, 'Nimbus'],\n",
       " 'Code': 'import random\\n\\nweather_names = [\\n    \"Tempest\", \"Zephyr\", \"Aurora\", \"Gale\", \"Nimbus\", \\n    \"Storm\", \"Breeze\", \"Cyclone\", \"Thunder\", \"Mist\"\\n]\\n\\ndef generate_weather_names():\\n    return random.sample(weather_names, 5)\\n    \\nprint(generate_weather_names())\\n',\n",
       " 'Sentiment': 'Happy'}"
      ]
     },
     "execution_count": 6,
     "metadata": {},
     "output_type": "execute_result"
    }
   ],
   "source": [
    "# Sync\n",
    "parse_yaml(system_prompt = \"Give me 5 names on a topic\", \n",
    "           user_prompt = \"weather\",\n",
    "           output_format = {\"Names\": \"Great sounding names, List[str]\",\n",
    "                            \"Meanings\": \"Name and meaning, dict\", \n",
    "                            \"Chinese Meanings\": \"Name and meaning in chinese, dict\",\n",
    "                            \"Lucky Name or Number\": \"List[Union[int, str]]\",\n",
    "                            \"Code\": \"Python code to generate 5 names\",\n",
    "                            \"Sentiment\": \"Enum['Happy', 'Sad', 'Other']\"},\n",
    "           llm = llm)"
   ]
  },
  {
   "cell_type": "code",
   "execution_count": 7,
   "id": "4fde6af4-6a83-41bd-8965-bd20322a4093",
   "metadata": {
    "scrolled": true
   },
   "outputs": [
    {
     "data": {
      "text/plain": [
       "{'Names': ['Tempest', 'Aurora', 'Zephyr', 'Nimbus', 'Gale'],\n",
       " 'Meanings': {'Tempest': 'A violent windy storm',\n",
       "  'Aurora': 'Dawn, often refers to colorful atmospheric displays',\n",
       "  'Zephyr': 'A gentle, mild breeze',\n",
       "  'Nimbus': 'A rain cloud',\n",
       "  'Gale': 'A very strong wind'},\n",
       " 'Chinese Meanings': {'暴风雨': 'Violent storm (Tempest)',\n",
       "  '曙光': 'Dawn light (Aurora)',\n",
       "  '和风': 'Gentle breeze (Zephyr)',\n",
       "  '雨云': 'Rain cloud (Nimbus)',\n",
       "  '大风': 'Strong wind (Gale)'},\n",
       " 'Lucky Name or Number': ['Zephyr', 7, 'Aurora', 22, 'Nimbus'],\n",
       " 'Code': 'import random\\n\\nweather_terms = [\\n    \"Storm\", \"Rain\", \"Thunder\", \"Lightning\", \"Cyclone\", \\n    \"Typhoon\", \"Breeze\", \"Blizzard\", \"Fog\", \"Mist\"\\n]\\n\\ndef generate_weather_names(count=5):\\n    return random.sample(weather_terms, count)\\n    \\nweather_names = generate_weather_names()\\nprint(weather_names)\\n'}"
      ]
     },
     "execution_count": 7,
     "metadata": {},
     "output_type": "execute_result"
    }
   ],
   "source": [
    "# Async\n",
    "await parse_yaml_async(system_prompt = \"Give me 5 names on a topic\", \n",
    "           user_prompt = \"weather\",\n",
    "           output_format = {\"Names\": \"Great sounding names, List[str]\",\n",
    "                            \"Meanings\": \"Name and meaning, dict\", \n",
    "                            \"Chinese Meanings\": \"Name and meaning in chinese, dict\",\n",
    "                            \"Lucky Name or Number\": \"List[Union[int, str]]\",\n",
    "                            \"Code\": \"Python code to generate 5 names\"},\n",
    "           llm = llm_async)"
   ]
  },
  {
   "cell_type": "markdown",
   "id": "17af81e1-43c7-448a-980e-11690d1d4df3",
   "metadata": {},
   "source": [
    "# Long Context processing"
   ]
  },
  {
   "cell_type": "code",
   "execution_count": 8,
   "id": "e439b165-ef0e-4d9f-825d-cba4dc780e30",
   "metadata": {},
   "outputs": [],
   "source": [
    "text = '''SINGAPORE – Singapore will study the potential deployment of nuclear power here and take further steps to systematically build up capabilities in this area, Prime Minister Lawrence Wong said on Feb 18.\n",
    "\n",
    "Noting that interest in nuclear energy is increasing worldwide, with several countries within the region planning to include nuclear in their energy mix, PM Wong said Singapore will need new capabilities to evaluate options and consider if there is a solution that the island-state can deploy in a safe, cost-effective way. \n",
    "\n",
    "Malaysia and Indonesia, for example, have operated research reactors for some time, he noted. \n",
    "\n",
    "\n",
    "ADVERTISING\n",
    "\n",
    "\n",
    "“These capabilities will also be needed for nuclear safety, which will become more salient given the growing regional interest in nuclear power,” said PM Wong. \n",
    "\n",
    "The Government will also pump in another $5 billion into its existing Future Energy Fund to support Singapore’s efforts to secure clean power, he said in his Budget speech.\n",
    "\n",
    "“Be it electricity imports, hydrogen or nuclear, we will need to make major investments in new infrastructure,” added PM Wong, who is also Finance Minister.\n",
    "\n",
    "\n",
    "The Future Energy Fund was announced during Budget 2024 with an initial $5 billion investment. It was set up to catalyse investments into clean energy technology that may involve high upfront costs and significant commercial, technological and geopolitical risks. \n",
    "\n",
    "\n",
    "Catch up on the news that everyone’s talking about\n",
    "Enter your e-mail\n",
    " Sign up\n",
    "By signing up, I accept SPH Media's Terms & Conditions and Privacy Policy as amended from time to time.\n",
    "\n",
    "\n",
    "Yes, I would also like to receive SPH Media Group's SPH Media Limited, its related corporations and affiliates as well as their agents and authorised service providers. marketing and promotions.\n",
    "The fund is part of Singapore’s efforts to address its resource constraints. \n",
    "\n",
    "PM Wong cited how the Republic overcame its water challenges through innovations such as recycling used water to form Newater, and building up its water industry. \n",
    "\n",
    "\n",
    "“Today, we face a different challenge. The industries of the future – artificial intelligence, semiconductors, biopharmaceuticals – are highly energy-intensive. To meet these growing energy needs and to bring down our carbon emissions at the same time, we will need more clean power,” he said.\n",
    "\n",
    "“Expanding access to clean energy is therefore a major national imperative.” \n",
    "\n",
    "Singapore has not made a decision to adopt nuclear energy. But given that the Republic has limitations in accessing renewable energy, nuclear is among various low-carbon sources that the country is looking into amid considerations of the nation’s energy security, affordability and carbon footprint. \n",
    "\n",
    "“Our options are inherently limited because we do not have the natural resources nor the land to meet our needs using hydro, wind or solar power,” PM Wong said.\n",
    "\n",
    "\n",
    "Singapore now relies on natural gas, a fossil fuel, for some 95 per cent of its energy needs. The power sector contributes about 40 per cent of the country’s total emissions.\n",
    "\n",
    "Achieving Singapore’s long-term climate target of reaching net-zero emissions by 2050 would require reducing carbon emissions from this sector. \n",
    "\n",
    "On Feb 10, the Republic published its 2035 climate target – to reduce its emissions to between 45 million tonnes and 50 million tonnes, down from the 60 million tonnes it expects to emit in 2030. \n",
    "\n",
    "PM Wong said that while Singapore had earlier assessed that conventional nuclear technologies were not suitable for Singapore, the country had continued to keep a close watch on developments in this space to keep its options open. \n",
    "\n",
    "“Since then, we have seen significant advancements in nuclear technologies,” he added, citing small modular reactors (SMRs) as one advanced nuclear technology that has better safety features than conventional, large plants. \n",
    "\n",
    "SMRs are compact systems that can be factory-assembled and installed in dense urban areas. The power capacity of one SMR is about a third of that of a traditional reactor.\n",
    "\n",
    "PM Wong added that a few SMRs have been deployed elsewhere, and more could become operational by the end of the decade. \n",
    "\n",
    "Over the past couple of years, Singapore’s exploration of nuclear energy has been hotting up. \n",
    "\n",
    "It started around 2022, when a local report on future energy scenarios mentioned that emerging energy technologies, including nuclear and geothermal, could potentially supply around 10 per cent of Singapore’s energy needs by 2050.\n",
    "\n",
    "More on this Topic\n",
    "PM Wong unveils bumper SG60 Budget for all Singaporeans\n",
    "Singapore Budget 2025: Read more\n",
    "In July 2024, the Republic inked the 123 Agreement on Nuclear Cooperation with the US, which will allow Singapore to learn more about nuclear technologies and scientific research from American organisations.\n",
    "\n",
    "PM Wong noted that Singapore is working on similar cooperation with other countries that have capabilities and experience in civilian nuclear power, particularly SMRs. \n",
    "\n",
    "In the nearer-term, PM Wong said one immediate solution to green the country’s energy mix is to import low-carbon electricity from the region, and the Republic has been progressing on this front. \n",
    "\n",
    "Singapore has inked deals with Indonesia, Cambodia and Vietnam to import 5.6 gigawatts of low-carbon electricity by 2035, and much of the green electricity is expected to come from solar, hydropower and wind.\n",
    "\n",
    "Under a pilot that was expanded in 2024, Singapore is importing hydropower from Laos via Thailand and Malaysia. In late 2024, it was said that additional energy supply will come from Malaysia, increasing the total electricity import capacity to 200MW from 100MW. Malaysia’s grid comprises coal and natural gas. \n",
    "\n",
    "“By 2035, we expect that about one-third of our projected electricity demand can be met through electricity imports,” said PM Wong. \n",
    "\n",
    "On low-carbon hydrogen – an emerging fuel that does not produce planet-warming emissions when burned – PM Wong said that Singapore has been closely evaluating its use. \n",
    "\n",
    "But there are inherent challenges in its production, storage and transportation, he said, which makes it hard to scale up in a commercially viable manner.'''"
   ]
  },
  {
   "cell_type": "code",
   "execution_count": 9,
   "id": "458d09c5-01ce-4831-94ee-bb2dcfffe747",
   "metadata": {
    "scrolled": true
   },
   "outputs": [
    {
     "data": {
      "text/plain": [
       "{'Entities': ['Singapore',\n",
       "  'Malaysia',\n",
       "  'Indonesia',\n",
       "  'US',\n",
       "  'Thailand',\n",
       "  'Vietnam',\n",
       "  'Cambodia',\n",
       "  'Laos'],\n",
       " 'Sentiment': 'Neutral',\n",
       " 'News about DeepSeek': None,\n",
       " 'Summary': 'Singapore is exploring nuclear power deployment as part of its clean energy strategy. Prime Minister Lawrence Wong announced an additional $5 billion for the Future Energy Fund to support clean power initiatives. Singapore faces limitations in renewable energy sources and currently relies on natural gas for 95% of its energy needs. The country is considering small modular reactors (SMRs) as a potentially safer nuclear technology option, while also pursuing electricity imports from neighboring countries and evaluating low-carbon hydrogen. By 2035, Singapore aims to meet one-third of its electricity demand through imports, supporting its goal to reach net-zero emissions by 2050.\\n',\n",
       " 'Code': 'def print_entities():\\n    entities = [\\n        \"Singapore\", \"Malaysia\", \"Indonesia\", \"US\", \\n        \"Thailand\", \"Vietnam\", \"Cambodia\", \"Laos\"\\n    ]\\n    print(\"Organizations mentioned in the article:\")\\n    for entity in entities:\\n        print(f\"- {entity}\")\\n    \\nprint_entities()\\n',\n",
       " 'Latex': \"\\\\documentclass{article}\\n\\\\usepackage{hyperref}\\n\\n\\\\title{Singapore's Nuclear Energy Exploration}\\n\\\\author{Based on PM Lawrence Wong's Announcement}\\n\\\\date{February 2024}\\n\\n\\\\begin{document}\\n\\n\\\\maketitle\\n\\n\\\\section{Introduction}\\nSingapore is taking steps to systematically build up capabilities in nuclear power as part of its clean energy strategy, according to Prime Minister Lawrence Wong's February 18 announcement.\\n\\n\\\\section{Financial Commitment}\\nThe government will invest an additional \\\\$5 billion in its existing Future Energy Fund, bringing the total allocation to \\\\$10 billion to support clean power initiatives.\\n\\n\\\\section{Current Energy Landscape}\\n\\\\begin{itemize}\\n  \\\\item Singapore relies on natural gas for approximately 95\\\\% of its energy needs\\n  \\\\item The power sector contributes about 40\\\\% of the country's total emissions\\n  \\\\item Singapore aims to reach net-zero emissions by 2050\\n\\\\end{itemize}\\n\\n\\\\section{Future Energy Solutions}\\n\\\\subsection{Nuclear Energy}\\nSmall Modular Reactors (SMRs) are being considered as they offer:\\n\\\\begin{itemize}\\n  \\\\item Better safety features than conventional plants\\n  \\\\item Compact design suitable for dense urban areas\\n  \\\\item Potential commercial viability by the end of the decade\\n\\\\end{itemize}\\n\\n\\\\subsection{Electricity Imports}\\n\\\\begin{itemize}\\n  \\\\item Agreements with Indonesia, Cambodia, and Vietnam to import 5.6 gigawatts by 2035\\n  \\\\item Current pilot importing hydropower from Laos via Thailand and Malaysia\\n  \\\\item Expected to meet one-third of projected electricity demand by 2035\\n\\\\end{itemize}\\n\\n\\\\subsection{Hydrogen}\\nLow-carbon hydrogen is being evaluated despite challenges in:\\n\\\\begin{itemize}\\n  \\\\item Production\\n  \\\\item Storage\\n  \\\\item Transportation\\n  \\\\item Commercial viability\\n\\\\end{itemize}\\n\\n\\\\section{Conclusion}\\nSingapore's multi-faceted approach to energy security reflects its commitment to balancing the growing energy demands of future industries with its climate goals despite inherent geographical limitations.\\n\\n\\\\end{document}\\n\"}"
      ]
     },
     "execution_count": 9,
     "metadata": {},
     "output_type": "execute_result"
    }
   ],
   "source": [
    "parse_yaml(\"Extract information from text\",\n",
    "           text,\n",
    "           output_format = {\n",
    "    \"Entities\": \"organisations only, list[str]\",  \n",
    "    \"Sentiment\": \"Enum['Happy', 'Sad', 'Neutral']\",\n",
    "    \"News about DeepSeek\": \"if any, Optional[str]\",\n",
    "    \"Summary\": \"str\",\n",
    "    \"Code\": \"code to print out entities\",         \n",
    "    \"Latex\": \"latex code to write article in latex\" \n",
    "},\n",
    "    llm = llm)"
   ]
  },
  {
   "cell_type": "markdown",
   "id": "228b90da-a18a-4cd2-8700-5ba027da34e6",
   "metadata": {},
   "source": [
    "# Previous StrictJSON tests"
   ]
  },
  {
   "cell_type": "code",
   "execution_count": 10,
   "id": "790afb57-7ccd-4baa-b069-b427d8474bdd",
   "metadata": {},
   "outputs": [
    {
     "data": {
      "text/plain": [
       "{'Sentiment': 'Positive', 'Adjectives': ['beautiful', 'sunny'], 'Words': 6}"
      ]
     },
     "execution_count": 10,
     "metadata": {},
     "output_type": "execute_result"
    }
   ],
   "source": [
    "parse_yaml(system_prompt = 'You are to process the user prompt',\n",
    "                    user_prompt = 'It is a beautiful and sunny day',\n",
    "                    output_format = {'Sentiment': 'Type of Sentiment',\n",
    "                                    'Adjectives': 'Array of adjectives',\n",
    "                                    'Words': 'Number of words'},\n",
    "                    llm = llm)"
   ]
  },
  {
   "cell_type": "code",
   "execution_count": 11,
   "id": "251d7ec3-577c-4a7a-9f6c-c21beda7ca5a",
   "metadata": {},
   "outputs": [
    {
     "data": {
      "text/plain": [
       "{'Sentiment': 'Pos',\n",
       " 'Adjectives': ['beautiful', 'sunny'],\n",
       " 'Words': 6,\n",
       " 'In English': True}"
      ]
     },
     "execution_count": 11,
     "metadata": {},
     "output_type": "execute_result"
    }
   ],
   "source": [
    "parse_yaml(system_prompt = 'You are to process the user prompt',\n",
    "                    user_prompt = 'It is a beautiful and sunny day',\n",
    "                    output_format = {'Sentiment': 'Type of Sentiment, type: Enum[\"Pos\", \"Neg\", \"Other\"]',\n",
    "                                    'Adjectives': 'Array of Adjectives, type: List[str]',\n",
    "                                    'Words': 'Number of words, type: int',\n",
    "                                    'In English': 'Whether sentence is in English, type: bool'},\n",
    "                    llm = llm)"
   ]
  },
  {
   "cell_type": "code",
   "execution_count": 12,
   "id": "56005b1f-4c60-40ca-8989-46d46e078843",
   "metadata": {},
   "outputs": [
    {
     "data": {
      "text/plain": [
       "{'Elaboration': 'To calculate the sum of an array, I need to:\\n1. Create a function that takes an array as input\\n2. Use a loop to iterate through each element and add it to a running total\\n3. Return the final sum\\n',\n",
       " 'C': 'int func_sum(int p[], int size) {\\n    int sum = 0;\\n    for (int i = 0; i < size; i++) {\\n        sum += p[i];\\n    }\\n    return sum;\\n}\\n',\n",
       " 'Python': 'def func_sum(p):\\n    return sum(p)\\n'}"
      ]
     },
     "execution_count": 12,
     "metadata": {},
     "output_type": "execute_result"
    }
   ],
   "source": [
    "parse_yaml(system_prompt = 'You are a code generator, generating code to fulfil a task',\n",
    "                    user_prompt = 'Given array p, output a function named func_sum to return its sum',\n",
    "                    output_format = {'Elaboration': 'How you would do it',\n",
    "                                     'C': 'Code',\n",
    "                                    'Python': 'Code'},\n",
    "                    llm = llm)"
   ]
  },
  {
   "cell_type": "code",
   "execution_count": 13,
   "id": "144773e5-696b-4daf-a305-21c8acdf2a79",
   "metadata": {
    "scrolled": true
   },
   "outputs": [
    {
     "data": {
      "text/plain": [
       "{'Sentiment': 'Positive',\n",
       " 'Strength of Sentiment': 4,\n",
       " 'Adjectives': [{'Name': 'beautiful',\n",
       "   'Description': 'pleasing to the senses or mind aesthetically'},\n",
       "  {'Name': 'sunny', 'Description': 'bright with sunlight'}],\n",
       " 'Words': {'Number of words': 6,\n",
       "  'Language': {'English': True, 'Chinese': False},\n",
       "  'Proper Words': True},\n",
       " 'Sentences': {'It': 'It is a beautiful and sunny day',\n",
       "  'is': 'It is a beautiful and sunny day',\n",
       "  'a': 'It is a beautiful and sunny day',\n",
       "  'beautiful': 'It is a beautiful and sunny day',\n",
       "  'and': 'It is a beautiful and sunny day',\n",
       "  'sunny': 'It is a beautiful and sunny day',\n",
       "  'day': 'It is a beautiful and sunny day'}}"
      ]
     },
     "execution_count": 13,
     "metadata": {},
     "output_type": "execute_result"
    }
   ],
   "source": [
    "parse_yaml(system_prompt = 'You are to process the user prompt',\n",
    "                    user_prompt = 'It is a beautiful and sunny day',\n",
    "                    output_format = {'Sentiment': 'Type of Sentiment', \n",
    "                                     'Strength of Sentiment': 'Enum[1, 2, 3, 4, 5]',\n",
    "                                    'Adjectives': \"Name and Description as separate keys, type: List[Dict[str, str]]\",\n",
    "                                    'Words': {\n",
    "                                        'Number of words': 'Word count', \n",
    "                                        'Language': {\n",
    "                                              'English': 'Whether it is English, type: bool',\n",
    "                                              'Chinese': 'Whether it is Chinese, type: bool'\n",
    "                                                  },\n",
    "                                        'Proper Words': 'Whether the words are proper in the native language, type: bool'\n",
    "                                        },\n",
    "                                     'Sentences': 'Each word of text as key, Sentence with word as value, Dict[str, str]',\n",
    "                                    },\n",
    "                 llm = llm)"
   ]
  },
  {
   "cell_type": "markdown",
   "id": "daacebd6-08d3-4f76-b22d-f2f64c1ebd4e",
   "metadata": {},
   "source": [
    "# How to use Structured Output with models that provide it\n",
    "- If your LLM has Structured Output, you can also opt to use it instead of the Pydantic-based error correcting done in `parse_yaml`\n",
    "- Method 1: Specify `output_format` in the inputs to `parse_yaml`, which will be automatically converted to `pydantic_model`, and then this can be referenced in the `llm()` function\n",
    "- Method 2: Just directly specify `pydantic_model` in place of `output_format` in the inputs to `parse_yaml`, which can be referenced in the `llm()` function"
   ]
  },
  {
   "cell_type": "code",
   "execution_count": 14,
   "id": "8e36384a-2ac8-4723-9084-988c98803b61",
   "metadata": {},
   "outputs": [],
   "source": [
    "def llm(system_prompt: str, user_prompt: str, **kwargs) -> str:\n",
    "    ''' Here, we use OpenAI for illustration, you can change it to your own LLM '''\n",
    "    # ensure your LLM imports are all within this function\n",
    "    from openai import OpenAI\n",
    "\n",
    "    client = OpenAI()\n",
    "    params = {\n",
    "    \"model\": \"gpt-4o-mini\",\n",
    "    \"temperature\": 0,\n",
    "    \"messages\": [\n",
    "        {\"role\": \"system\", \"content\": system_prompt},\n",
    "        {\"role\": \"user\", \"content\": user_prompt}\n",
    "    ]\n",
    "    }\n",
    "    \n",
    "    # Only add 'response_format' if a pydantic_model is provided.\n",
    "    if kwargs.get(\"pydantic_model\") is not None:\n",
    "        params[\"response_format\"] = kwargs[\"pydantic_model\"]\n",
    "\n",
    "        print(\"For debugging purposes, this is the json schema for the Pydantic Model:\")\n",
    "        print(kwargs[\"pydantic_model\"].model_json_schema())\n",
    "    \n",
    "    response = client.beta.chat.completions.parse(**params)\n",
    "    return response.choices[0].message.content"
   ]
  },
  {
   "cell_type": "markdown",
   "id": "09b2e399-69b2-454e-ac2f-7a0924389fd1",
   "metadata": {},
   "source": [
    "### Method 1: Using the pydantic model automatically generated via output_format"
   ]
  },
  {
   "cell_type": "code",
   "execution_count": 15,
   "id": "eedd3f61-aec4-4493-9e76-a40bd3303ac4",
   "metadata": {},
   "outputs": [
    {
     "name": "stdout",
     "output_type": "stream",
     "text": [
      "For debugging purposes, this is the json schema for the Pydantic Model:\n",
      "{'properties': {'name': {'title': 'Name', 'type': 'string'}, 'date': {'title': 'Date', 'type': 'string'}, 'participants': {'description': 'only male names', 'items': {'type': 'string'}, 'title': 'Participants', 'type': 'array'}}, 'required': ['name', 'date', 'participants'], 'title': 'Yaml_Schema', 'type': 'object'}\n"
     ]
    },
    {
     "data": {
      "text/plain": [
       "{'name': 'Alex',\n",
       " 'date': '2023-10-15',\n",
       " 'participants': ['John', 'Michael', 'David', 'Chris', 'James']}"
      ]
     },
     "execution_count": 15,
     "metadata": {},
     "output_type": "execute_result"
    }
   ],
   "source": [
    "parse_yaml(system_prompt = \"You are a helpful assistent\",\n",
    "    user_prompt = \"Generate a birthday event for Alex\",\n",
    "    output_format = {\"name\": \"str\",\n",
    "                     \"date\": \"str\",\n",
    "                     \"participants\": \"only male names, list[str]\"},\n",
    "                    llm = llm)"
   ]
  },
  {
   "cell_type": "markdown",
   "id": "81a06216-b704-4427-8d05-7e6fa52d11c2",
   "metadata": {},
   "source": [
    "### Method 2: Using the pydantic model specified in `parse_yaml` input"
   ]
  },
  {
   "cell_type": "code",
   "execution_count": 16,
   "id": "d84e1a9b-c14d-4033-9530-486e95363b7a",
   "metadata": {},
   "outputs": [],
   "source": [
    "from pydantic import BaseModel, Field\n",
    "\n",
    "class CalendarEvent(BaseModel):\n",
    "    name: str\n",
    "    date: str\n",
    "    participants: list[str] = Field(..., description = \"only male names\")"
   ]
  },
  {
   "cell_type": "code",
   "execution_count": 17,
   "id": "d2caacda-95dc-43df-945a-8530179725bc",
   "metadata": {
    "scrolled": true
   },
   "outputs": [
    {
     "name": "stdout",
     "output_type": "stream",
     "text": [
      "For debugging purposes, this is the json schema for the Pydantic Model:\n",
      "{'properties': {'name': {'title': 'Name', 'type': 'string'}, 'date': {'title': 'Date', 'type': 'string'}, 'participants': {'description': 'only male names', 'items': {'type': 'string'}, 'title': 'Participants', 'type': 'array'}}, 'required': ['name', 'date', 'participants'], 'title': 'CalendarEvent', 'type': 'object'}\n"
     ]
    },
    {
     "data": {
      "text/plain": [
       "{'name': \"Alex's Birthday Party\",\n",
       " 'date': '2023-11-15',\n",
       " 'participants': ['John', 'Michael', 'David', 'Chris']}"
      ]
     },
     "execution_count": 17,
     "metadata": {},
     "output_type": "execute_result"
    }
   ],
   "source": [
    "parse_yaml(system_prompt = \"You are a helpful assistent\",\n",
    "    user_prompt = \"Generate a birthday event for Alex\", \n",
    "    pydantic_model = CalendarEvent,\n",
    "    llm = llm)"
   ]
  },
  {
   "cell_type": "markdown",
   "id": "6a2bd056-6bd9-484e-94d1-95b193372b99",
   "metadata": {},
   "source": [
    "# How `parse_yaml` works under the hood\n",
    "- Converts `output_format` into Pydantic format, then use Pydantic error parsers to test and error correct\n",
    "- You can also use `convert_schema_to_pydantic` to convert the `output_format` to a Pydantic model, so you can use it for structured outputs"
   ]
  },
  {
   "cell_type": "code",
   "execution_count": 18,
   "id": "6218211c-b5aa-48e3-a830-ea190ea84851",
   "metadata": {},
   "outputs": [],
   "source": [
    "from strictjson import convert_schema_to_pydantic"
   ]
  },
  {
   "cell_type": "code",
   "execution_count": 19,
   "id": "bf309f7d-1176-4423-9e27-a5387816c220",
   "metadata": {},
   "outputs": [
    {
     "data": {
      "text/plain": [
       "{'properties': {'name': {'title': 'Name', 'type': 'string'},\n",
       "  'date': {'title': 'Date', 'type': 'string'},\n",
       "  'participants': {'description': 'only male names',\n",
       "   'items': {'type': 'string'},\n",
       "   'title': 'Participants',\n",
       "   'type': 'array'}},\n",
       " 'required': ['name', 'date', 'participants'],\n",
       " 'title': 'Yaml_Schema',\n",
       " 'type': 'object'}"
      ]
     },
     "execution_count": 19,
     "metadata": {},
     "output_type": "execute_result"
    }
   ],
   "source": [
    "convert_schema_to_pydantic({\"name\": \"str\",\n",
    "                     \"date\": \"str\",\n",
    "                     \"participants\": \"only male names, list[str]\"}).model_json_schema()"
   ]
  }
 ],
 "metadata": {
  "kernelspec": {
   "display_name": "Python 3 (ipykernel)",
   "language": "python",
   "name": "python3"
  },
  "language_info": {
   "codemirror_mode": {
    "name": "ipython",
    "version": 3
   },
   "file_extension": ".py",
   "mimetype": "text/x-python",
   "name": "python",
   "nbconvert_exporter": "python",
   "pygments_lexer": "ipython3",
   "version": "3.12.2"
  }
 },
 "nbformat": 4,
 "nbformat_minor": 5
}
