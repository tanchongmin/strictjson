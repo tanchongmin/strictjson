{
 "cells": [
  {
   "cell_type": "markdown",
   "id": "eecd920b-ea8c-4890-ad76-227d7fd52964",
   "metadata": {},
   "source": [
    "# LLM YAML Parser\n",
    "- Created: 19 Feb 2025\n",
    "- Parses the LLM output as a YAML, and converts it to dict\n",
    "- Uses concise `output_format` to save tokens\n",
    "- Converts `output_format` into pydantic schema automatically, and uses pydantic to validate output\n",
    "- Able to process datatypes: `int`, `float`, `str`, `bool`, `list`, `dict`, `date`, `datetime`, `time`, `UUID`, `Decimal`\n",
    "- Able to process: `None`, `Any`, `Union`, `Optional`\n",
    "- Default datatype when not specified is `Any`\n",
    "- Error correction of up to `num_tries` times (default: 3)"
   ]
  },
  {
   "cell_type": "code",
   "execution_count": 1,
   "id": "2ba9d88e-7e41-43b1-9fd8-f8ab1f62d3f8",
   "metadata": {
    "editable": true,
    "slideshow": {
     "slide_type": ""
    },
    "tags": []
   },
   "outputs": [],
   "source": [
    "import os\n",
    "from strictjson import parse_yaml, parse_yaml_async"
   ]
  },
  {
   "cell_type": "code",
   "execution_count": 14,
   "id": "e5289ed5-3c23-4bb9-9d1c-9f02aec6d13a",
   "metadata": {
    "editable": true,
    "scrolled": true,
    "slideshow": {
     "slide_type": ""
    },
    "tags": []
   },
   "outputs": [
    {
     "data": {
      "text/plain": [
       "True"
      ]
     },
     "execution_count": 14,
     "metadata": {},
     "output_type": "execute_result"
    }
   ],
   "source": [
    "from dotenv import load_dotenv\n",
    "# put your secret keys in your .env\n",
    "# For instance, if you are using OpenAI, your .env should contain\n",
    "# export OPENAI_API_KEY = \"sk-.......\"\n",
    "load_dotenv()"
   ]
  },
  {
   "cell_type": "markdown",
   "id": "c4637b1e-d852-4d69-8e34-8a697800570d",
   "metadata": {},
   "source": [
    "# Define LLMs\n",
    "- LLMs take in a `system_prompt` and a `user_prompt` and outputs a `str`"
   ]
  },
  {
   "cell_type": "code",
   "execution_count": 3,
   "id": "0f6e231f-761e-4674-a090-dba949ac3e50",
   "metadata": {},
   "outputs": [],
   "source": [
    "def llm(system_prompt: str, user_prompt: str) -> str:\n",
    "    ''' Here, we use OpenAI for illustration, you can change it to your own LLM '''\n",
    "    # ensure your LLM imports are all within this function\n",
    "    from openai import OpenAI\n",
    "    \n",
    "    # define your own LLM here\n",
    "    client = OpenAI()\n",
    "    response = client.chat.completions.create(\n",
    "        model='gpt-4o-mini',\n",
    "        temperature = 0,\n",
    "        messages=[\n",
    "            {\"role\": \"system\", \"content\": system_prompt},\n",
    "            {\"role\": \"user\", \"content\": user_prompt}\n",
    "        ]\n",
    "    )\n",
    "    return response.choices[0].message.content"
   ]
  },
  {
   "cell_type": "code",
   "execution_count": 4,
   "id": "7627c4b9-e7d2-4de6-af00-244e1176b0ea",
   "metadata": {},
   "outputs": [],
   "source": [
    "async def llm_async(system_prompt: str, user_prompt: str) -> str:\n",
    "    ''' Here, we use OpenAI for illustration, you can change it to your own LLM '''\n",
    "    # ensure your LLM imports are all within this function\n",
    "    from openai import AsyncOpenAI\n",
    "    \n",
    "    # define your own LLM here\n",
    "    client = AsyncOpenAI()\n",
    "    response = await client.chat.completions.create(\n",
    "        model='gpt-4o-mini',\n",
    "        temperature = 0,\n",
    "        messages=[\n",
    "            {\"role\": \"system\", \"content\": system_prompt},\n",
    "            {\"role\": \"user\", \"content\": user_prompt}\n",
    "        ]\n",
    "    )\n",
    "    return response.choices[0].message.content"
   ]
  },
  {
   "cell_type": "markdown",
   "id": "6678ef84-e49f-4afa-a48c-49962fa85a03",
   "metadata": {},
   "source": [
    "# Basic Syntax\n",
    "- `system_prompt`: Instructions for the LLM\n",
    "- `user_prompt`: Content to perform instructions on\n",
    "- `output_format`: Concise description-type infused dictionary to specify format LLM should output in. If type is given, should specify it as a standalone string, or after a comma (e.g. \"int\" or \"number above 5, int\")\n",
    "- `llm`: Your llm that takes in `system_prompt` and `user_prompt` and outputs a `str`"
   ]
  },
  {
   "cell_type": "code",
   "execution_count": 5,
   "id": "2d7fac95-2917-46f6-9d97-def9e594e8b2",
   "metadata": {},
   "outputs": [
    {
     "data": {
      "text/plain": [
       "{'Names': ['Sunny', 'Stormy', 'Breeze', 'Cloudy', 'Rainy'],\n",
       " 'Meanings': {'Sunny': 'Bright and cheerful, like the sun.',\n",
       "  'Stormy': 'Characterized by strong winds and rain.',\n",
       "  'Breeze': 'A gentle wind, often refreshing.',\n",
       "  'Cloudy': 'Covered with clouds; overcast.',\n",
       "  'Rainy': 'Characterized by rain; wet.'},\n",
       " 'Chinese Meanings': {'Sunny': '阳光明媚',\n",
       "  'Stormy': '暴风雨',\n",
       "  'Breeze': '微风',\n",
       "  'Cloudy': '多云',\n",
       "  'Rainy': '下雨'},\n",
       " 'Lucky Name or Number': [7, 'Lucky', 3, 'Fortune', 9],\n",
       " 'Code': 'import random\\n\\nnames = [\"Sunny\", \"Stormy\", \"Breeze\", \"Cloudy\", \"Rainy\"]\\nselected_names = random.sample(names, 5)\\nprint(selected_names)'}"
      ]
     },
     "execution_count": 5,
     "metadata": {},
     "output_type": "execute_result"
    }
   ],
   "source": [
    "# Sync\n",
    "parse_yaml(system_prompt = \"Give me 5 names on a topic\", \n",
    "           user_prompt = \"weather\",\n",
    "           output_format = {\"Names\": \"Great sounding names, List[str]\",\n",
    "                            \"Meanings\": \"Name and meaning, dict\", \n",
    "                            \"Chinese Meanings\": \"Name and meaning in chinese, dict\",\n",
    "                            \"Lucky Name or Number\": \"List[Union[int, str]]\",\n",
    "                            \"Code\": \"Python code to generate 5 names\"},\n",
    "           llm = llm)"
   ]
  },
  {
   "cell_type": "code",
   "execution_count": 6,
   "id": "4fde6af4-6a83-41bd-8965-bd20322a4093",
   "metadata": {
    "scrolled": true
   },
   "outputs": [
    {
     "data": {
      "text/plain": [
       "{'Names': ['Aurora', 'Zephyr', 'Solstice', 'Nimbus', 'Tempest'],\n",
       " 'Meanings': {'Aurora': 'Dawn',\n",
       "  'Zephyr': 'Gentle breeze',\n",
       "  'Solstice': 'Sun standing still',\n",
       "  'Nimbus': 'Rain cloud',\n",
       "  'Tempest': 'Storm'},\n",
       " 'Chinese Meanings': {'Aurora': '曙光',\n",
       "  'Zephyr': '微风',\n",
       "  'Solstice': '至日',\n",
       "  'Nimbus': '雨云',\n",
       "  'Tempest': '暴风'},\n",
       " 'Lucky Name or Number': [7, 'Lucky Star', 3, 'Fortune', 9],\n",
       " 'Code': 'import random\\n\\ndef generate_weather_names():\\n    names = [\"Aurora\", \"Zephyr\", \"Solstice\", \"Nimbus\", \"Tempest\"]\\n    return random.sample(names, 5)\\n\\nprint(generate_weather_names())'}"
      ]
     },
     "execution_count": 6,
     "metadata": {},
     "output_type": "execute_result"
    }
   ],
   "source": [
    "# Async\n",
    "await parse_yaml_async(system_prompt = \"Give me 5 names on a topic\", \n",
    "           user_prompt = \"weather\",\n",
    "           output_format = {\"Names\": \"Great sounding names, List[str]\",\n",
    "                            \"Meanings\": \"Name and meaning, dict\", \n",
    "                            \"Chinese Meanings\": \"Name and meaning in chinese, dict\",\n",
    "                            \"Lucky Name or Number\": \"List[Union[int, str]]\",\n",
    "                            \"Code\": \"Python code to generate 5 names\"},\n",
    "           llm = llm_async)"
   ]
  },
  {
   "cell_type": "markdown",
   "id": "17af81e1-43c7-448a-980e-11690d1d4df3",
   "metadata": {},
   "source": [
    "# Long Context processing"
   ]
  },
  {
   "cell_type": "code",
   "execution_count": 7,
   "id": "e439b165-ef0e-4d9f-825d-cba4dc780e30",
   "metadata": {},
   "outputs": [],
   "source": [
    "text = '''SINGAPORE – Singapore will study the potential deployment of nuclear power here and take further steps to systematically build up capabilities in this area, Prime Minister Lawrence Wong said on Feb 18.\n",
    "\n",
    "Noting that interest in nuclear energy is increasing worldwide, with several countries within the region planning to include nuclear in their energy mix, PM Wong said Singapore will need new capabilities to evaluate options and consider if there is a solution that the island-state can deploy in a safe, cost-effective way. \n",
    "\n",
    "Malaysia and Indonesia, for example, have operated research reactors for some time, he noted. \n",
    "\n",
    "\n",
    "ADVERTISING\n",
    "\n",
    "\n",
    "“These capabilities will also be needed for nuclear safety, which will become more salient given the growing regional interest in nuclear power,” said PM Wong. \n",
    "\n",
    "The Government will also pump in another $5 billion into its existing Future Energy Fund to support Singapore’s efforts to secure clean power, he said in his Budget speech.\n",
    "\n",
    "“Be it electricity imports, hydrogen or nuclear, we will need to make major investments in new infrastructure,” added PM Wong, who is also Finance Minister.\n",
    "\n",
    "\n",
    "The Future Energy Fund was announced during Budget 2024 with an initial $5 billion investment. It was set up to catalyse investments into clean energy technology that may involve high upfront costs and significant commercial, technological and geopolitical risks. \n",
    "\n",
    "\n",
    "Catch up on the news that everyone’s talking about\n",
    "Enter your e-mail\n",
    " Sign up\n",
    "By signing up, I accept SPH Media's Terms & Conditions and Privacy Policy as amended from time to time.\n",
    "\n",
    "\n",
    "Yes, I would also like to receive SPH Media Group's SPH Media Limited, its related corporations and affiliates as well as their agents and authorised service providers. marketing and promotions.\n",
    "The fund is part of Singapore’s efforts to address its resource constraints. \n",
    "\n",
    "PM Wong cited how the Republic overcame its water challenges through innovations such as recycling used water to form Newater, and building up its water industry. \n",
    "\n",
    "\n",
    "“Today, we face a different challenge. The industries of the future – artificial intelligence, semiconductors, biopharmaceuticals – are highly energy-intensive. To meet these growing energy needs and to bring down our carbon emissions at the same time, we will need more clean power,” he said.\n",
    "\n",
    "“Expanding access to clean energy is therefore a major national imperative.” \n",
    "\n",
    "Singapore has not made a decision to adopt nuclear energy. But given that the Republic has limitations in accessing renewable energy, nuclear is among various low-carbon sources that the country is looking into amid considerations of the nation’s energy security, affordability and carbon footprint. \n",
    "\n",
    "“Our options are inherently limited because we do not have the natural resources nor the land to meet our needs using hydro, wind or solar power,” PM Wong said.\n",
    "\n",
    "\n",
    "Singapore now relies on natural gas, a fossil fuel, for some 95 per cent of its energy needs. The power sector contributes about 40 per cent of the country’s total emissions.\n",
    "\n",
    "Achieving Singapore’s long-term climate target of reaching net-zero emissions by 2050 would require reducing carbon emissions from this sector. \n",
    "\n",
    "On Feb 10, the Republic published its 2035 climate target – to reduce its emissions to between 45 million tonnes and 50 million tonnes, down from the 60 million tonnes it expects to emit in 2030. \n",
    "\n",
    "PM Wong said that while Singapore had earlier assessed that conventional nuclear technologies were not suitable for Singapore, the country had continued to keep a close watch on developments in this space to keep its options open. \n",
    "\n",
    "“Since then, we have seen significant advancements in nuclear technologies,” he added, citing small modular reactors (SMRs) as one advanced nuclear technology that has better safety features than conventional, large plants. \n",
    "\n",
    "SMRs are compact systems that can be factory-assembled and installed in dense urban areas. The power capacity of one SMR is about a third of that of a traditional reactor.\n",
    "\n",
    "PM Wong added that a few SMRs have been deployed elsewhere, and more could become operational by the end of the decade. \n",
    "\n",
    "Over the past couple of years, Singapore’s exploration of nuclear energy has been hotting up. \n",
    "\n",
    "It started around 2022, when a local report on future energy scenarios mentioned that emerging energy technologies, including nuclear and geothermal, could potentially supply around 10 per cent of Singapore’s energy needs by 2050.\n",
    "\n",
    "More on this Topic\n",
    "PM Wong unveils bumper SG60 Budget for all Singaporeans\n",
    "Singapore Budget 2025: Read more\n",
    "In July 2024, the Republic inked the 123 Agreement on Nuclear Cooperation with the US, which will allow Singapore to learn more about nuclear technologies and scientific research from American organisations.\n",
    "\n",
    "PM Wong noted that Singapore is working on similar cooperation with other countries that have capabilities and experience in civilian nuclear power, particularly SMRs. \n",
    "\n",
    "In the nearer-term, PM Wong said one immediate solution to green the country’s energy mix is to import low-carbon electricity from the region, and the Republic has been progressing on this front. \n",
    "\n",
    "Singapore has inked deals with Indonesia, Cambodia and Vietnam to import 5.6 gigawatts of low-carbon electricity by 2035, and much of the green electricity is expected to come from solar, hydropower and wind.\n",
    "\n",
    "Under a pilot that was expanded in 2024, Singapore is importing hydropower from Laos via Thailand and Malaysia. In late 2024, it was said that additional energy supply will come from Malaysia, increasing the total electricity import capacity to 200MW from 100MW. Malaysia’s grid comprises coal and natural gas. \n",
    "\n",
    "“By 2035, we expect that about one-third of our projected electricity demand can be met through electricity imports,” said PM Wong. \n",
    "\n",
    "On low-carbon hydrogen – an emerging fuel that does not produce planet-warming emissions when burned – PM Wong said that Singapore has been closely evaluating its use. \n",
    "\n",
    "But there are inherent challenges in its production, storage and transportation, he said, which makes it hard to scale up in a commercially viable manner.'''"
   ]
  },
  {
   "cell_type": "code",
   "execution_count": 8,
   "id": "458d09c5-01ce-4831-94ee-bb2dcfffe747",
   "metadata": {
    "scrolled": true
   },
   "outputs": [
    {
     "data": {
      "text/plain": [
       "{'Entities': ['Singapore',\n",
       "  'Malaysia',\n",
       "  'Indonesia',\n",
       "  'US',\n",
       "  'Cambodia',\n",
       "  'Vietnam',\n",
       "  'Laos'],\n",
       " 'Sentiment': 'Neutral',\n",
       " 'News about DeepSeek': 'None',\n",
       " 'Summary': 'Singapore is exploring the potential deployment of nuclear power as part of its efforts to secure clean energy and reduce carbon emissions. Prime Minister Lawrence Wong highlighted the need for new capabilities to evaluate nuclear options, citing regional interest and advancements in nuclear technologies, particularly small modular reactors (SMRs). The government is also investing in the Future Energy Fund to support clean energy initiatives and has inked agreements to import low-carbon electricity from neighboring countries.',\n",
       " 'Code': 'entities = [\"Singapore\", \"Malaysia\", \"Indonesia\", \"US\", \"Cambodia\", \"Vietnam\", \"Laos\"]\\nprint(entities)\\n',\n",
       " 'Latex': \"\\\\documentclass{article}\\n\\\\begin{document}\\n\\\\title{Singapore's Exploration of Nuclear Energy}\\n\\\\author{Author Name}\\n\\\\date{\\\\today}\\n\\\\maketitle\\n\\n\\\\section{Introduction}\\nSingapore is exploring the potential deployment of nuclear power as part of its efforts to secure clean energy and reduce carbon emissions.\\n\\n\\\\section{Government Initiatives}\\nPrime Minister Lawrence Wong highlighted the need for new capabilities to evaluate nuclear options, citing regional interest and advancements in nuclear technologies, particularly small modular reactors (SMRs).\\n\\n\\\\section{Future Energy Fund}\\nThe government is also investing in the Future Energy Fund to support clean energy initiatives.\\n\\n\\\\section{International Cooperation}\\nSingapore has inked agreements to import low-carbon electricity from neighboring countries.\\n\\n\\\\end{document}\"}"
      ]
     },
     "execution_count": 8,
     "metadata": {},
     "output_type": "execute_result"
    }
   ],
   "source": [
    "parse_yaml(\"Extract information from text\",\n",
    "           text,\n",
    "           output_format = {\n",
    "    \"Entities\": \"organisations only, list[str]\",  \n",
    "    \"Sentiment\": \"Enum['Happy', 'Sad', 'Neutral']\",\n",
    "    \"News about DeepSeek\": \"if any, Optional[str]\",\n",
    "    \"Summary\": \"str\",\n",
    "    \"Code\": \"code to print out entities\",         \n",
    "    \"Latex\": \"latex code to write article in latex\" \n",
    "},\n",
    "    llm = llm)"
   ]
  },
  {
   "cell_type": "markdown",
   "id": "228b90da-a18a-4cd2-8700-5ba027da34e6",
   "metadata": {},
   "source": [
    "# Previous StrictJSON tests"
   ]
  },
  {
   "cell_type": "code",
   "execution_count": 9,
   "id": "790afb57-7ccd-4baa-b069-b427d8474bdd",
   "metadata": {},
   "outputs": [
    {
     "data": {
      "text/plain": [
       "{'Sentiment': 'Positive', 'Adjectives': ['beautiful', 'sunny'], 'Words': 7}"
      ]
     },
     "execution_count": 9,
     "metadata": {},
     "output_type": "execute_result"
    }
   ],
   "source": [
    "parse_yaml(system_prompt = 'You are a classifier',\n",
    "                    user_prompt = 'It is a beautiful and sunny day',\n",
    "                    output_format = {'Sentiment': 'Type of Sentiment',\n",
    "                                    'Adjectives': 'Array of adjectives',\n",
    "                                    'Words': 'Number of words'},\n",
    "                    llm = llm)"
   ]
  },
  {
   "cell_type": "code",
   "execution_count": 10,
   "id": "251d7ec3-577c-4a7a-9f6c-c21beda7ca5a",
   "metadata": {},
   "outputs": [
    {
     "data": {
      "text/plain": [
       "{'Sentiment': 'Pos',\n",
       " 'Adjectives': ['beautiful', 'sunny'],\n",
       " 'Words': 7,\n",
       " 'In English': True}"
      ]
     },
     "execution_count": 10,
     "metadata": {},
     "output_type": "execute_result"
    }
   ],
   "source": [
    "parse_yaml(system_prompt = 'You are a classifier',\n",
    "                    user_prompt = 'It is a beautiful and sunny day',\n",
    "                    output_format = {'Sentiment': 'Type of Sentiment, type: Enum[\"Pos\", \"Neg\", \"Other\"]',\n",
    "                                    'Adjectives': 'Array of Adjectives, type: List[str]',\n",
    "                                    'Words': 'Number of words, type: int',\n",
    "                                    'In English': 'Whether sentence is in English, type: bool'},\n",
    "                    llm = llm)"
   ]
  },
  {
   "cell_type": "code",
   "execution_count": 11,
   "id": "56005b1f-4c60-40ca-8989-46d46e078843",
   "metadata": {},
   "outputs": [
    {
     "data": {
      "text/plain": [
       "{'Elaboration': \"To create a function named `func_sum` that takes an array `p` as input and returns its sum, we can use Python's built-in `sum()` function. This function will iterate through the elements of the array and calculate the total sum. The function will handle both integer and float values in the array.\\n\",\n",
       " 'C': 'def func_sum(p):\\n    return sum(p)\\n',\n",
       " 'Python': 'def func_sum(p):\\n    return sum(p)'}"
      ]
     },
     "execution_count": 11,
     "metadata": {},
     "output_type": "execute_result"
    }
   ],
   "source": [
    "parse_yaml(system_prompt = 'You are a code generator, generating code to fulfil a task',\n",
    "                    user_prompt = 'Given array p, output a function named func_sum to return its sum',\n",
    "                    output_format = {'Elaboration': 'How you would do it',\n",
    "                                     'C': 'Code',\n",
    "                                    'Python': 'Code'},\n",
    "                    llm = llm)"
   ]
  },
  {
   "cell_type": "code",
   "execution_count": 13,
   "id": "144773e5-696b-4daf-a305-21c8acdf2a79",
   "metadata": {},
   "outputs": [
    {
     "data": {
      "text/plain": [
       "{'Sentiment': 'Positive',\n",
       " 'Strength of Sentiment': 4,\n",
       " 'Adjectives': [{'Name': 'Beautiful',\n",
       "   'Description': 'Pleasing to the senses or mind'},\n",
       "  {'Name': 'Sunny', 'Description': 'Bright with sunlight'}],\n",
       " 'Words': {'Number of words': 7,\n",
       "  'Language': {'English': True, 'Chinese': False},\n",
       "  'Proper Words': True}}"
      ]
     },
     "execution_count": 13,
     "metadata": {},
     "output_type": "execute_result"
    }
   ],
   "source": [
    "parse_yaml(system_prompt = 'You are a classifier',\n",
    "                    user_prompt = 'It is a beautiful and sunny day',\n",
    "                    output_format = {'Sentiment': 'Type of Sentiment', \n",
    "                                     'Strength of Sentiment': 'Enum[1, 2, 3, 4, 5]',\n",
    "                                    'Adjectives': \"Name and Description as separate keys, type: List[Dict['Name', 'Description']]\",\n",
    "                                    'Words': {\n",
    "                                        'Number of words': 'Word count', \n",
    "                                        'Language': {\n",
    "                                              'English': 'Whether it is English, type: bool',\n",
    "                                              'Chinese': 'Whether it is Chinese, type: bool'\n",
    "                                                  },\n",
    "                                        'Proper Words': 'Whether the words are proper in the native language, type: bool'\n",
    "                                        }\n",
    "                                    },\n",
    "                 llm = llm)"
   ]
  }
 ],
 "metadata": {
  "kernelspec": {
   "display_name": "Python 3 (ipykernel)",
   "language": "python",
   "name": "python3"
  },
  "language_info": {
   "codemirror_mode": {
    "name": "ipython",
    "version": 3
   },
   "file_extension": ".py",
   "mimetype": "text/x-python",
   "name": "python",
   "nbconvert_exporter": "python",
   "pygments_lexer": "ipython3",
   "version": "3.12.2"
  }
 },
 "nbformat": 4,
 "nbformat_minor": 5
}
